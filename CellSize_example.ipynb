{
 "cells": [
  {
   "cell_type": "code",
   "execution_count": 1,
   "metadata": {},
   "outputs": [],
   "source": [
    "import numpy as np\n",
    "import pandas as pd\n",
    "import matplotlib.pyplot as plt  "
   ]
  },
  {
   "cell_type": "code",
   "execution_count": 2,
   "metadata": {},
   "outputs": [],
   "source": [
    "##pip install numpy"
   ]
  },
  {
   "cell_type": "markdown",
   "metadata": {},
   "source": [
    "# 1. Reading the image"
   ]
  },
  {
   "cell_type": "code",
   "execution_count": 3,
   "metadata": {},
   "outputs": [
    {
     "ename": "FileNotFoundError",
     "evalue": "[Errno 2] No such file or directory: 'C:\\\\Users\\\\strocha\\\\Documents\\\\Python Scripts\\\\Keilen\\\\WTA_exp_2025-01-15T13-08-43.213.tif'",
     "output_type": "error",
     "traceback": [
      "\u001b[1;31m---------------------------------------------------------------------------\u001b[0m",
      "\u001b[1;31mFileNotFoundError\u001b[0m                         Traceback (most recent call last)",
      "Cell \u001b[1;32mIn[3], line 1\u001b[0m\n\u001b[1;32m----> 1\u001b[0m im \u001b[38;5;241m=\u001b[39m plt\u001b[38;5;241m.\u001b[39mimread(\u001b[38;5;124mr\u001b[39m\u001b[38;5;124m'\u001b[39m\u001b[38;5;124mC:\u001b[39m\u001b[38;5;124m\\\u001b[39m\u001b[38;5;124mUsers\u001b[39m\u001b[38;5;124m\\\u001b[39m\u001b[38;5;124mstrocha\u001b[39m\u001b[38;5;124m\\\u001b[39m\u001b[38;5;124mDocuments\u001b[39m\u001b[38;5;124m\\\u001b[39m\u001b[38;5;124mPython Scripts\u001b[39m\u001b[38;5;124m\\\u001b[39m\u001b[38;5;124mKeilen\u001b[39m\u001b[38;5;124m\\\u001b[39m\u001b[38;5;124mWTA_exp_2025-01-15T13-08-43.213.tif\u001b[39m\u001b[38;5;124m'\u001b[39m) \u001b[38;5;66;03m## Change figure file \u001b[39;00m\n\u001b[0;32m      2\u001b[0m \u001b[38;5;28mprint\u001b[39m(im\u001b[38;5;241m.\u001b[39mdtype)\n\u001b[0;32m      3\u001b[0m \u001b[38;5;28mprint\u001b[39m(im\u001b[38;5;241m.\u001b[39mshape)\n",
      "File \u001b[1;32mD:\\Programs\\Anaconda\\Lib\\site-packages\\matplotlib\\pyplot.py:2195\u001b[0m, in \u001b[0;36mimread\u001b[1;34m(fname, format)\u001b[0m\n\u001b[0;32m   2193\u001b[0m \u001b[38;5;129m@_copy_docstring_and_deprecators\u001b[39m(matplotlib\u001b[38;5;241m.\u001b[39mimage\u001b[38;5;241m.\u001b[39mimread)\n\u001b[0;32m   2194\u001b[0m \u001b[38;5;28;01mdef\u001b[39;00m \u001b[38;5;21mimread\u001b[39m(fname, \u001b[38;5;28mformat\u001b[39m\u001b[38;5;241m=\u001b[39m\u001b[38;5;28;01mNone\u001b[39;00m):\n\u001b[1;32m-> 2195\u001b[0m     \u001b[38;5;28;01mreturn\u001b[39;00m matplotlib\u001b[38;5;241m.\u001b[39mimage\u001b[38;5;241m.\u001b[39mimread(fname, \u001b[38;5;28mformat\u001b[39m)\n",
      "File \u001b[1;32mD:\\Programs\\Anaconda\\Lib\\site-packages\\matplotlib\\image.py:1563\u001b[0m, in \u001b[0;36mimread\u001b[1;34m(fname, format)\u001b[0m\n\u001b[0;32m   1556\u001b[0m \u001b[38;5;28;01mif\u001b[39;00m \u001b[38;5;28misinstance\u001b[39m(fname, \u001b[38;5;28mstr\u001b[39m) \u001b[38;5;129;01mand\u001b[39;00m \u001b[38;5;28mlen\u001b[39m(parse\u001b[38;5;241m.\u001b[39murlparse(fname)\u001b[38;5;241m.\u001b[39mscheme) \u001b[38;5;241m>\u001b[39m \u001b[38;5;241m1\u001b[39m:\n\u001b[0;32m   1557\u001b[0m     \u001b[38;5;66;03m# Pillow doesn't handle URLs directly.\u001b[39;00m\n\u001b[0;32m   1558\u001b[0m     \u001b[38;5;28;01mraise\u001b[39;00m \u001b[38;5;167;01mValueError\u001b[39;00m(\n\u001b[0;32m   1559\u001b[0m         \u001b[38;5;124m\"\u001b[39m\u001b[38;5;124mPlease open the URL for reading and pass the \u001b[39m\u001b[38;5;124m\"\u001b[39m\n\u001b[0;32m   1560\u001b[0m         \u001b[38;5;124m\"\u001b[39m\u001b[38;5;124mresult to Pillow, e.g. with \u001b[39m\u001b[38;5;124m\"\u001b[39m\n\u001b[0;32m   1561\u001b[0m         \u001b[38;5;124m\"\u001b[39m\u001b[38;5;124m``np.array(PIL.Image.open(urllib.request.urlopen(url)))``.\u001b[39m\u001b[38;5;124m\"\u001b[39m\n\u001b[0;32m   1562\u001b[0m         )\n\u001b[1;32m-> 1563\u001b[0m \u001b[38;5;28;01mwith\u001b[39;00m img_open(fname) \u001b[38;5;28;01mas\u001b[39;00m image:\n\u001b[0;32m   1564\u001b[0m     \u001b[38;5;28;01mreturn\u001b[39;00m (_pil_png_to_float_array(image)\n\u001b[0;32m   1565\u001b[0m             \u001b[38;5;28;01mif\u001b[39;00m \u001b[38;5;28misinstance\u001b[39m(image, PIL\u001b[38;5;241m.\u001b[39mPngImagePlugin\u001b[38;5;241m.\u001b[39mPngImageFile) \u001b[38;5;28;01melse\u001b[39;00m\n\u001b[0;32m   1566\u001b[0m             pil_to_array(image))\n",
      "File \u001b[1;32mD:\\Programs\\Anaconda\\Lib\\site-packages\\PIL\\Image.py:3218\u001b[0m, in \u001b[0;36mopen\u001b[1;34m(fp, mode, formats)\u001b[0m\n\u001b[0;32m   3215\u001b[0m     filename \u001b[38;5;241m=\u001b[39m fp\n\u001b[0;32m   3217\u001b[0m \u001b[38;5;28;01mif\u001b[39;00m filename:\n\u001b[1;32m-> 3218\u001b[0m     fp \u001b[38;5;241m=\u001b[39m builtins\u001b[38;5;241m.\u001b[39mopen(filename, \u001b[38;5;124m\"\u001b[39m\u001b[38;5;124mrb\u001b[39m\u001b[38;5;124m\"\u001b[39m)\n\u001b[0;32m   3219\u001b[0m     exclusive_fp \u001b[38;5;241m=\u001b[39m \u001b[38;5;28;01mTrue\u001b[39;00m\n\u001b[0;32m   3221\u001b[0m \u001b[38;5;28;01mtry\u001b[39;00m:\n",
      "\u001b[1;31mFileNotFoundError\u001b[0m: [Errno 2] No such file or directory: 'C:\\\\Users\\\\strocha\\\\Documents\\\\Python Scripts\\\\Keilen\\\\WTA_exp_2025-01-15T13-08-43.213.tif'"
     ]
    }
   ],
   "source": [
    "im = plt.imread(r'C:\\Users\\strocha\\Documents\\Python Scripts\\Keilen\\WTA_exp_2025-01-15T13-08-43.213.tif') ## Change figure file \n",
    "print(im.dtype)\n",
    "print(im.shape)"
   ]
  },
  {
   "cell_type": "code",
   "execution_count": null,
   "metadata": {},
   "outputs": [],
   "source": [
    "plt.imshow(im)"
   ]
  },
  {
   "cell_type": "code",
   "execution_count": null,
   "metadata": {},
   "outputs": [],
   "source": [
    "# Load the grayscale image\n",
    "from skimage.color import rgb2gray\n",
    "\n",
    "# Convert to grayscale\n",
    "im_gray = rgb2gray(im)\n",
    "\n",
    "plt.imshow(im_gray)\n",
    "print(im_gray.dtype)\n",
    "print(im_gray.shape)"
   ]
  },
  {
   "cell_type": "markdown",
   "metadata": {},
   "source": [
    "# 3. Adjust threshold"
   ]
  },
  {
   "cell_type": "code",
   "execution_count": null,
   "metadata": {},
   "outputs": [],
   "source": [
    "from skimage.filters import try_all_threshold\n",
    "\n",
    "fig, ax = try_all_threshold(im_gray, figsize=(10, 8), verbose=False)\n",
    "plt.show()"
   ]
  },
  {
   "cell_type": "code",
   "execution_count": null,
   "metadata": {},
   "outputs": [],
   "source": [
    "from skimage import io, filters, morphology\n",
    "from scipy import ndimage\n",
    "#Apply a threshold to create a binary mask\n",
    "threshold = filters.threshold_minimum(im_gray)  ## change to filter that works the best: threshold_[filter](im_gray)\n",
    "binary_mask = im_gray > threshold\n",
    "\n",
    "plt.imshow(binary_mask)\n"
   ]
  },
  {
   "cell_type": "code",
   "execution_count": null,
   "metadata": {},
   "outputs": [],
   "source": [
    "inverted_mask = 1 - binary_mask"
   ]
  },
  {
   "cell_type": "markdown",
   "metadata": {},
   "source": [
    "# 4. Measurement and filtering"
   ]
  },
  {
   "cell_type": "code",
   "execution_count": null,
   "metadata": {},
   "outputs": [],
   "source": [
    "import matplotlib.pyplot as plt\n",
    "from skimage import measure, morphology\n",
    "from pandas import DataFrame\n",
    "import numpy as np\n",
    "\n",
    "# Assuming binary_mask is the binary mask from the thresholded/smoothed image\n",
    "labels = measure.label(inverted_mask)\n",
    "props = measure.regionprops(labels)\n",
    "\n",
    "# Create a list to store the properties of each labeled region\n",
    "lr = []\n",
    "for prop in props:\n",
    "    # Collect properties for display and filtering\n",
    "    aa = [prop.label, prop.area, prop.centroid, prop.major_axis_length, prop.minor_axis_length]\n",
    "    lr.append(aa) \n",
    "\n",
    "# Create DataFrame and filter out small objects based on area\n",
    "Outprops = DataFrame(lr, columns=['Original_Label', 'Area', 'Centroid', 'Length', 'Width'])\n",
    "df3 = Outprops[Outprops['Area'] > 60 ]  # Filter out objects with area <= 100 ## Change area size\n",
    "\n",
    "# Add a new column with sequential labels starting from 1\n",
    "df3 = df3.reset_index(drop=True)  # Reset index to ensure numbering starts from 0\n",
    "df3['Adjusted_Label'] = df3.index + 1  # Create a new column for adjusted labels\n",
    "\n",
    "# Create a new binary mask that includes only the filtered regions\n",
    "filtered_binary_mask = np.zeros_like(inverted_mask)\n",
    "for _, row in df3.iterrows():\n",
    "    original_label_id = row['Original_Label']\n",
    "    filtered_binary_mask[labels == original_label_id] = 1\n",
    "\n",
    "# Plot the filtered binary mask with adjusted labels\n",
    "fig, ax = plt.subplots(figsize=(10, 10))\n",
    "ax.imshow(filtered_binary_mask, cmap='gray')\n",
    "ax.set_title(\"Filtered Objects with Sequential Labels on Binary Mask\")\n",
    "\n",
    "# Loop through filtered DataFrame to plot adjusted labels on the filtered mask\n",
    "for _, row in df3.iterrows():\n",
    "    centroid = row['Centroid']\n",
    "    adjusted_label = row['Adjusted_Label']\n",
    "    # Plot the adjusted label number at the centroid location\n",
    "    ax.text(centroid[1], centroid[0], str(adjusted_label), color='red', fontsize=12, ha='center', va='center')\n",
    "\n",
    "plt.axis('off')\n",
    "plt.savefig('filtered_objects_with_labels.png', bbox_inches='tight', dpi=300)\n"
   ]
  },
  {
   "cell_type": "markdown",
   "metadata": {},
   "source": [
    "# 5. Display and save the dataFrame"
   ]
  },
  {
   "cell_type": "code",
   "execution_count": null,
   "metadata": {},
   "outputs": [],
   "source": [
    "df3"
   ]
  },
  {
   "cell_type": "code",
   "execution_count": null,
   "metadata": {},
   "outputs": [],
   "source": [
    "# save as csv, allow user to choose name  ## change file name\n",
    "df3.to_csv('58A_exp_measure.csv')"
   ]
  },
  {
   "cell_type": "markdown",
   "metadata": {},
   "source": [
    "# 6. Graphing data from single dataset"
   ]
  },
  {
   "cell_type": "code",
   "execution_count": null,
   "metadata": {},
   "outputs": [],
   "source": [
    "# Compute Aspect Ratio\n",
    "if 'Length' in df3.columns and 'Width' and 'Area' in df3.columns:\n",
    "    df3['Aspect_Ratio'] = df3['Length'] / df3['Width']\n",
    "    df3['Length (μm)'] = df3['Length'] / 6 # Depends on lens used. Our x40 lens is 6 pixels per micron\n",
    "    df3['Width (μm)'] = df3['Width'] / 6 # Depends on lens used. Our x40 lens is 6 pixels per micron\n",
    "    df3['Area (μm)'] = df3['Area'] / 6 **2 # Depends on lens used. Our x40 lens is 6 pixels per micron\n",
    "\n",
    "# Define the features to plot\n",
    "features = ['Length (μm)', 'Width (μm)', 'Aspect_Ratio', 'Area (μm)']\n",
    "\n",
    "# Compute overall mean and standard deviation values\n",
    "mean_values = df3[features].mean()\n",
    "std_values = df3[features].std()\n",
    "\n",
    "# Set style\n",
    "sns.set_style(\"whitegrid\")\n",
    "\n",
    "# Create separate plots\n",
    "for feature in features:\n",
    "    plt.figure(figsize=(8, 5))\n",
    "    sns.barplot(x=[feature], y=[mean_values[feature]], yerr=[std_values[feature]], capsize=0.2)\n",
    "    plt.title(f'Average {feature} for Entire Dataset with Standard Deviation')\n",
    "    plt.ylabel(f'{feature.replace(\"Mean \", \"\")}')\n",
    "    plt.savefig(f\"{feature.replace(' ', '_').lower()}_comparison.png\", dpi=300, bbox_inches='tight')\n",
    "    plt.show()\n",
    "    plt.show()\n"
   ]
  },
  {
   "cell_type": "code",
   "execution_count": null,
   "metadata": {},
   "outputs": [],
   "source": []
  }
 ],
 "metadata": {
  "kernelspec": {
   "display_name": "Python 3 (ipykernel)",
   "language": "python",
   "name": "python3"
  },
  "language_info": {
   "codemirror_mode": {
    "name": "ipython",
    "version": 3
   },
   "file_extension": ".py",
   "mimetype": "text/x-python",
   "name": "python",
   "nbconvert_exporter": "python",
   "pygments_lexer": "ipython3",
   "version": "3.11.4"
  }
 },
 "nbformat": 4,
 "nbformat_minor": 4
}
